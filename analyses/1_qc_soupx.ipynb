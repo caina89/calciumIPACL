{
 "cells": [
  {
   "cell_type": "code",
   "execution_count": 101,
   "id": "c2ce9e2c",
   "metadata": {},
   "outputs": [],
   "source": [
    "library(data.table)\n",
    "library(reticulate)\n",
    "library(SoupX)\n",
    "library(Matrix)\n",
    "\n",
    "scipy_sparse = import(\"scipy.sparse\")\n",
    "np = import(\"numpy\")\n",
    "\n",
    "pathin=\"/project/genomics/lianyun/CaIPACL/cp_from_homepath/data_final4\"\n",
    "pathout=\"/project/genomics/lianyun/CaIPACL/cp_from_homepath/data_final4\"\n",
    "pathout_plot=\"/home/hpc/lianyun.huang/singlecell/final4/output/output_soupx\""
   ]
  },
  {
   "cell_type": "code",
   "execution_count": 102,
   "id": "0b8547e7",
   "metadata": {},
   "outputs": [],
   "source": [
    "sample=\"12\"\n",
    "nforce=\"4500\""
   ]
  },
  {
   "cell_type": "code",
   "execution_count": 103,
   "id": "f75e71b6",
   "metadata": {},
   "outputs": [],
   "source": [
    "# read data_tod\n",
    "data_tod=scipy_sparse$load_npz(paste0(pathin,\"/data_tod\",sample,\".npz\"))\n",
    "\n",
    "# read soupx_groups\n",
    "soupx_groups = fread(paste0(pathin,\"/soupx_groups\",sample,\".csv\"))\n",
    "soupx_groups=data.frame(soupx_groups)\n",
    "soupx_groups=py_run_string(\"import pandas as pd\", convert = TRUE)$pd$Series(soupx_groups$V2)\n",
    "\n"
   ]
  },
  {
   "cell_type": "code",
   "execution_count": 104,
   "id": "51c113f1",
   "metadata": {},
   "outputs": [],
   "source": [
    "# read and format data\n",
    "data=scipy_sparse$load_npz(paste0(pathin,\"/data\",sample,\".npz\"))\n",
    "\n",
    "cells = fread(paste0(pathin,\"/cells\",sample,\".csv\"),header=FALSE)\n",
    "cells=data.frame(cells)\n",
    "cells=cells[,c(1)]\n",
    "\n",
    "genes = fread(paste0(pathin,\"/genes\",sample,\".csv\"),header=FALSE)\n",
    "genes=data.frame(genes)\n",
    "genes=genes[,c(1)]\n",
    "\n",
    "rownames(data)=genes\n",
    "colnames(data)=cells\n",
    "\n",
    "data=as(data,\"sparseMatrix\")"
   ]
  },
  {
   "cell_type": "code",
   "execution_count": 105,
   "id": "d630b85e",
   "metadata": {},
   "outputs": [
    {
     "name": "stderr",
     "output_type": "stream",
     "text": [
      "47 genes passed tf-idf cut-off and 47 soup quantile filter.  Taking the top 47.\n",
      "\n",
      "Using 1418 independent estimates of rho.\n",
      "\n",
      "Estimated global rho of 0.03\n",
      "\n"
     ]
    },
    {
     "data": {
      "text/html": [
       "<strong>png:</strong> 2"
      ],
      "text/latex": [
       "\\textbf{png:} 2"
      ],
      "text/markdown": [
       "**png:** 2"
      ],
      "text/plain": [
       "png \n",
       "  2 "
      ]
     },
     "metadata": {},
     "output_type": "display_data"
    },
    {
     "name": "stderr",
     "output_type": "stream",
     "text": [
      "Warning message in sparseMatrix(i = out@i[w] + 1, j = out@j[w] + 1, x = out@x[w], :\n",
      "“'giveCsparse' is deprecated; setting repr=\"T\" for you”\n",
      "Expanding counts from 34 clusters to 2137 cells.\n",
      "\n"
     ]
    }
   ],
   "source": [
    "# Generate SoupChannel Object\n",
    "sc = SoupChannel(data_tod, data, calcSoupProfile = FALSE)\n",
    "\n",
    "# add extra meta data to the SoupChannel\n",
    "soupProf = data.frame(row.names = rownames(data), est = rowSums(data)/sum(data), counts = rowSums(data))\n",
    "sc = setSoupProfile(sc, soupProf)\n",
    "\n",
    "# Set cluster information in SoupChannel\n",
    "sc = setClusters(sc, soupx_groups)\n",
    "\n",
    "pdf(paste0(pathout_plot,\"/soupxrho_sample\",sample,\".pdf\"))\n",
    "# Estimate contamination fraction\n",
    "sc  = autoEstCont(sc, doPlot=TRUE)\n",
    "dev.off()\n",
    "\n",
    "# Infer corrected table of counts and rount to integer\n",
    "out = adjustCounts(sc, roundToInt = TRUE)"
   ]
  },
  {
   "cell_type": "code",
   "execution_count": 106,
   "id": "0ec6f7bb",
   "metadata": {},
   "outputs": [
    {
     "data": {
      "text/plain": [
       "NULL"
      ]
     },
     "metadata": {},
     "output_type": "display_data"
    }
   ],
   "source": [
    "writeMM(out,paste0(pathout,\"/out\",sample,\".mtx\"))"
   ]
  },
  {
   "cell_type": "code",
   "execution_count": null,
   "id": "32306aaa",
   "metadata": {},
   "outputs": [],
   "source": []
  },
  {
   "cell_type": "code",
   "execution_count": null,
   "id": "bb38aefc",
   "metadata": {},
   "outputs": [],
   "source": []
  },
  {
   "cell_type": "code",
   "execution_count": null,
   "id": "b2e4f5d9",
   "metadata": {},
   "outputs": [],
   "source": []
  }
 ],
 "metadata": {
  "kernelspec": {
   "display_name": "R",
   "language": "R",
   "name": "ir"
  },
  "language_info": {
   "codemirror_mode": "r",
   "file_extension": ".r",
   "mimetype": "text/x-r-source",
   "name": "R",
   "pygments_lexer": "r",
   "version": "4.2.3"
  }
 },
 "nbformat": 4,
 "nbformat_minor": 5
}
