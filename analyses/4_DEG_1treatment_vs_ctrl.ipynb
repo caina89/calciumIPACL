{
 "cells": [
  {
   "cell_type": "code",
   "execution_count": 95,
   "id": "d9c8333a",
   "metadata": {},
   "outputs": [],
   "source": [
    "import scanpy as sc\n",
    "import decoupler as dp\n",
    "import matplotlib.pyplot as plt\n",
    "import numpy as np\n",
    "\n",
    "# Import DESeq2\n",
    "from pydeseq2.dds import DeseqDataSet\n",
    "from pydeseq2.ds import DeseqStats"
   ]
  },
  {
   "cell_type": "code",
   "execution_count": 96,
   "id": "c864cf0f",
   "metadata": {},
   "outputs": [],
   "source": [
    "path=\"/home/hpc/lianyun.huang/singlecell/final4\"\n",
    "path_data=\"/project/genomics/lianyun/CaIPACL/cp_from_homepath/data_final4\"\n",
    "pathout=path+\"/output/output_decoupler\"\n",
    "\n",
    "\n",
    "title=\"ctrl_q\"\n",
    "# ctrl_con, ctrl_ep, ctrl_soc, ctrl_q"
   ]
  },
  {
   "cell_type": "code",
   "execution_count": 97,
   "id": "39f75097",
   "metadata": {},
   "outputs": [],
   "source": [
    "adata=sc.read_h5ad(path_data + \"/mapmycellannotation_combine_\"+ title +\".h5ad\")\n",
    "print(title)\n",
    "print(adata.shape)\n",
    "print(adata.obs[\"status\"].cat.categories)\n",
    "print(adata.obs[\"broadtype\"].cat.categories)"
   ]
  },
  {
   "cell_type": "markdown",
   "id": "b216c027",
   "metadata": {},
   "source": [
    "### make pseudobulk"
   ]
  },
  {
   "cell_type": "code",
   "execution_count": 98,
   "id": "bdea4ad8",
   "metadata": {},
   "outputs": [],
   "source": [
    "adata_dp = dp.get_pseudobulk(adata,sample_col=\"batch\", \n",
    "                             groups_col=\"broadtype\",\n",
    "                             layer=\"soupX_counts\",\n",
    "                             mode=\"sum\",min_cells=0,min_counts=0)"
   ]
  },
  {
   "cell_type": "code",
   "execution_count": 99,
   "id": "edc74056",
   "metadata": {},
   "outputs": [],
   "source": [
    "dp.plot_psbulk_samples(adata_dp, groupby=['status', 'broadtype'], \n",
    "                       figsize=(9, 3),\n",
    "                      save=pathout+\"/pseudobulk_\"+title+\".pdf\")\n"
   ]
  },
  {
   "cell_type": "markdown",
   "id": "0e7befb2",
   "metadata": {},
   "source": [
    "### check pseudobulk profiles"
   ]
  },
  {
   "cell_type": "code",
   "execution_count": 100,
   "id": "a4328620",
   "metadata": {},
   "outputs": [],
   "source": [
    "pp_pdata = adata_dp.copy()\n",
    "sc.pp.normalize_total(pp_pdata, target_sum=1e6)\n",
    "sc.pp.log1p(pp_pdata)\n",
    "sc.pp.scale(pp_pdata, max_value=10)\n",
    "sc.tl.pca(pp_pdata, n_comps=10)"
   ]
  },
  {
   "cell_type": "code",
   "execution_count": 101,
   "id": "5ead62df",
   "metadata": {},
   "outputs": [],
   "source": [
    "with plt.rc_context():\n",
    "    sc.pl.pca(pp_pdata, color=['status', 'broadtype'], ncols=2, show=False, size=300)\n",
    "    plt.savefig(pathout+\"/top2PCs_\"+title+\".pdf\")"
   ]
  },
  {
   "cell_type": "markdown",
   "id": "90f3525e",
   "metadata": {},
   "source": [
    "### run DEG"
   ]
  },
  {
   "cell_type": "code",
   "execution_count": 102,
   "id": "2bb613e7",
   "metadata": {},
   "outputs": [],
   "source": [
    "# define contrast and control\n",
    "\n",
    "if adata.obs[\"status\"].cat.categories[1] == \"ctrl\":\n",
    "    strcontrol = adata.obs[\"status\"].cat.categories[1]\n",
    "    strcontrast = adata.obs[\"status\"].cat.categories[0]\n",
    "else:\n",
    "    strcontrast = adata.obs[\"status\"].cat.categories[1]\n",
    "    strcontrol = adata.obs[\"status\"].cat.categories[0]\n",
    "\n",
    "\n",
    "title=strcontrast+\"_compareto_\"+strcontrol\n",
    "print(title)"
   ]
  },
  {
   "cell_type": "code",
   "execution_count": 103,
   "id": "69d96789",
   "metadata": {
    "scrolled": true
   },
   "outputs": [],
   "source": [
    "for i in adata.obs[\"broadtype\"].cat.categories:\n",
    "    print(i)\n",
    "    \n",
    "    try:\n",
    "        # select cell profiles\n",
    "\t    tmp = adata_dp[adata_dp.obs['broadtype'] == i].copy()\n",
    "\t    # plot filter\n",
    "\t    dp.plot_filter_by_expr(tmp, group='status', \n",
    "\t                       min_count=10, min_total_count=15,\n",
    "\t                       save=pathout+\"/featureqc_\"+title+\"_\"+i+\".pdf\")\n",
    "\t    \n",
    "\t    # Build DESeq2 object\n",
    "\t    dds = DeseqDataSet(\n",
    "\t        adata=tmp,\n",
    "\t        design_factors='status',\n",
    "\t        ref_level=[\"status\",strcontrol],\n",
    "\t        refit_cooks=True,\n",
    "\t        n_cpus=8\n",
    "\t    )\t\n",
    "\n",
    "\t    # Compute LFCs\n",
    "\t    dds.deseq2()\n",
    "\t    \n",
    "\t    # Extract contrast between two conditions\n",
    "\t    stat_res = DeseqStats(dds, \n",
    "\t                          contrast=['status',strcontrast,strcontrol], \n",
    "\t                          n_cpus=8)\n",
    "\n",
    "\t    # Compute Wald test\n",
    "\t    stat_res.summary()\t\n",
    "\n",
    "\t    # Shrink LFCs\n",
    "\t    stat_res.lfc_shrink(coeff='status_'+strcontrast+'_vs_'+strcontrol)\t\n",
    "\n",
    "\t    # Extract results\n",
    "\t    results_df = stat_res.results_df\n",
    "        \n",
    "        # global pvalue correction\n",
    "\t    results_df[\"pglobadj\"]=results_df[\"padj\"]*14\n",
    "\t    results_df=results_df.sort_values(by=\"pglobadj\")\n",
    "        \n",
    "        # write csv\n",
    "\t    results_df.to_csv(pathout+\"/DEGlist_\"+title+\"_\"+i+\".csv\",index=True)\n",
    "    \n",
    "        # plot volcano\n",
    "\t    dp.plot_volcano_df(results_df, x='log2FoldChange', y='padj',top=0,\n",
    "                          save=pathout+\"/volcanoplot_\"+title+\"_\"+i+\".pdf\")\n",
    "\n",
    "    except ValueError:\n",
    "        continue\n"
   ]
  },
  {
   "cell_type": "code",
   "execution_count": null,
   "id": "252260da",
   "metadata": {},
   "outputs": [],
   "source": []
  },
  {
   "cell_type": "code",
   "execution_count": null,
   "id": "f85efedd",
   "metadata": {},
   "outputs": [],
   "source": []
  },
  {
   "cell_type": "code",
   "execution_count": null,
   "id": "75ceaeda",
   "metadata": {},
   "outputs": [],
   "source": []
  },
  {
   "cell_type": "code",
   "execution_count": null,
   "id": "8e7427d0",
   "metadata": {},
   "outputs": [],
   "source": []
  },
  {
   "cell_type": "code",
   "execution_count": null,
   "id": "b2c352ee",
   "metadata": {},
   "outputs": [],
   "source": []
  },
  {
   "cell_type": "code",
   "execution_count": null,
   "id": "5c5ceda0",
   "metadata": {},
   "outputs": [],
   "source": []
  }
 ],
 "metadata": {
  "kernelspec": {
   "display_name": "Python 3 (ipykernel)",
   "language": "python",
   "name": "python3"
  },
  "language_info": {
   "codemirror_mode": {
    "name": "ipython",
    "version": 3
   },
   "file_extension": ".py",
   "mimetype": "text/x-python",
   "name": "python",
   "nbconvert_exporter": "python",
   "pygments_lexer": "ipython3",
   "version": "3.11.4"
  }
 },
 "nbformat": 4,
 "nbformat_minor": 5
}
